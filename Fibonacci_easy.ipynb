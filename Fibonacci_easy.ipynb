{
  "nbformat": 4,
  "nbformat_minor": 0,
  "metadata": {
    "colab": {
      "name": "Untitled0.ipynb",
      "provenance": [],
      "authorship_tag": "ABX9TyM885W97e8UPLA469xwS+IQ",
      "include_colab_link": true
    },
    "kernelspec": {
      "name": "python3",
      "display_name": "Python 3"
    },
    "language_info": {
      "name": "python"
    }
  },
  "cells": [
    {
      "cell_type": "markdown",
      "metadata": {
        "id": "view-in-github",
        "colab_type": "text"
      },
      "source": [
        "<a href=\"https://colab.research.google.com/github/themanoftalent/NLP/blob/main/Fibonacci_easy.ipynb\" target=\"_parent\"><img src=\"https://colab.research.google.com/assets/colab-badge.svg\" alt=\"Open In Colab\"/></a>"
      ]
    },
    {
      "cell_type": "code",
      "execution_count": null,
      "metadata": {
        "colab": {
          "base_uri": "https://localhost:8080/"
        },
        "id": "PySvGwrOm82A",
        "outputId": "bd5e11d2-640f-4ff2-95bf-70106dbee2cd"
      },
      "outputs": [
        {
          "output_type": "stream",
          "name": "stdout",
          "text": [
            "1 fibonacci: 1\n",
            "2 fibonacci: 1\n",
            "3 fibonacci: 2\n",
            "4 fibonacci: 3\n",
            "5 fibonacci: 5\n",
            "6 fibonacci: 8\n",
            "7 fibonacci: 13\n",
            "8 fibonacci: 21\n",
            "9 fibonacci: 34\n",
            "10 fibonacci: 55\n",
            "11 fibonacci: 89\n",
            "12 fibonacci: 144\n",
            "13 fibonacci: 233\n",
            "14 fibonacci: 377\n",
            "15 fibonacci: 610\n",
            "16 fibonacci: 987\n",
            "17 fibonacci: 1597\n",
            "18 fibonacci: 2584\n",
            "19 fibonacci: 4181\n",
            "20 fibonacci: 6765\n",
            "21 fibonacci: 10946\n",
            "22 fibonacci: 17711\n",
            "23 fibonacci: 28657\n",
            "24 fibonacci: 46368\n",
            "25 fibonacci: 75025\n",
            "26 fibonacci: 121393\n",
            "27 fibonacci: 196418\n",
            "28 fibonacci: 317811\n",
            "29 fibonacci: 514229\n",
            "30 fibonacci: 832040\n",
            "31 fibonacci: 1346269\n",
            "32 fibonacci: 2178309\n",
            "33 fibonacci: 3524578\n",
            "34 fibonacci: 5702887\n",
            "35 fibonacci: 9227465\n",
            "36 fibonacci: 14930352\n",
            "37 fibonacci: 24157817\n",
            "38 fibonacci: 39088169\n",
            "39 fibonacci: 63245986\n",
            "40 fibonacci: 102334155\n",
            "41 fibonacci: 165580141\n",
            "42 fibonacci: 267914296\n"
          ]
        }
      ],
      "source": [
        "import timeit\n",
        "start = timeit.timeit()\n",
        "#easy fibonacci series\n",
        "def fibonacci(n):\n",
        "\tif n <=1:\n",
        "\t\treturn 1\n",
        "\telif n ==2:\n",
        "\t\treturn 1\n",
        "\telif n >2:\n",
        "\t\treturn fibonacci(n-1) + fibonacci(n-2)\n",
        "\n",
        "\n",
        "for x in range(1,50):\n",
        "\tprint(x+0, \"fibonacci:\", fibonacci(x))\n",
        "\n",
        "end = timeit.timeit()\n",
        "\n",
        "print(\"Time is: %2.5f\" % (end-start))"
      ]
    },
    {
      "cell_type": "code",
      "source": [
        ""
      ],
      "metadata": {
        "id": "OeanAcNAnXTl"
      },
      "execution_count": null,
      "outputs": []
    }
  ]
}