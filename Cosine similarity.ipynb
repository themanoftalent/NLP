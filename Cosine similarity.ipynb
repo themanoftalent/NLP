{
  "nbformat": 4,
  "nbformat_minor": 0,
  "metadata": {
    "colab": {
      "name": "f1 score 2.ipynb",
      "provenance": [],
      "collapsed_sections": [],
      "authorship_tag": "ABX9TyM/SDgpRYFW3vlFql0PAphN",
      "include_colab_link": true
    },
    "kernelspec": {
      "name": "python3",
      "display_name": "Python 3"
    },
    "language_info": {
      "name": "python"
    }
  },
  "cells": [
    {
      "cell_type": "markdown",
      "metadata": {
        "id": "view-in-github",
        "colab_type": "text"
      },
      "source": [
        "<a href=\"https://colab.research.google.com/github/themanoftalent/NLP/blob/main/Cosine%20similarity.ipynb\" target=\"_parent\"><img src=\"https://colab.research.google.com/assets/colab-badge.svg\" alt=\"Open In Colab\"/></a>"
      ]
    },
    {
      "cell_type": "code",
      "metadata": {
        "id": "BwM5tigLQ6RH"
      },
      "source": [
        "from sklearn.feature_extraction.text import CountVectorizer\n",
        "from sklearn.metrics.pairwise import cosine_similarity"
      ],
      "execution_count": 20,
      "outputs": []
    },
    {
      "cell_type": "code",
      "metadata": {
        "id": "IgrWyihURkSt"
      },
      "source": [
        "def doc_cos_similar(doc1:str, doc2:str) -> float:\n",
        "  vectorizer= CountVectorizer()\n",
        "  doc1=\"Good morning\"\n",
        "  doc2=\"Good evening\"\n",
        "  documents = [doc1, doc2]\n",
        "  count_vectorizer = CountVectorizer()\n",
        "  sparse_matrix = count_vectorizer.fit_transform(documents)\n",
        "  doc_term_matrix = sparse_matrix.todense()\n",
        "  return doc_term_matrix\n",
        "\n"
      ],
      "execution_count": 21,
      "outputs": []
    },
    {
      "cell_type": "code",
      "metadata": {
        "id": "zgjIGTumRv_L"
      },
      "source": [
        "# input\n",
        "doc1=\"Good morning\"\n",
        "doc2=\"Good evening\""
      ],
      "execution_count": 22,
      "outputs": []
    },
    {
      "cell_type": "code",
      "metadata": {
        "colab": {
          "base_uri": "https://localhost:8080/"
        },
        "id": "JwRVR1hMSHMT",
        "outputId": "5cb8ee0f-ef22-463c-c752-dc73cfe940f6"
      },
      "source": [
        "doc_cos_similar(doc1,doc2)"
      ],
      "execution_count": 23,
      "outputs": [
        {
          "output_type": "execute_result",
          "data": {
            "text/plain": [
              "matrix([[0, 1, 1],\n",
              "        [1, 1, 0]])"
            ]
          },
          "metadata": {
            "tags": []
          },
          "execution_count": 23
        }
      ]
    },
    {
      "cell_type": "markdown",
      "metadata": {
        "id": "2QcC_DOsXr5F"
      },
      "source": [
        "asa"
      ]
    },
    {
      "cell_type": "code",
      "metadata": {
        "colab": {
          "base_uri": "https://localhost:8080/"
        },
        "id": "rIV1am8UXaeI",
        "outputId": "3e9078bd-9bfe-4b9b-cd73-b94fc98397eb"
      },
      "source": [
        "from sklearn.metrics.pairwise import cosine_similarity\n",
        "print(cosine_similarity(df))"
      ],
      "execution_count": 40,
      "outputs": [
        {
          "output_type": "stream",
          "text": [
            "[[1.  0.5]\n",
            " [0.5 1. ]]\n"
          ],
          "name": "stdout"
        }
      ]
    },
    {
      "cell_type": "code",
      "metadata": {
        "id": "ZTzgSDE4XqcY"
      },
      "source": [
        ""
      ],
      "execution_count": 8,
      "outputs": []
    },
    {
      "cell_type": "code",
      "metadata": {
        "id": "ETTFsqG-XWqo"
      },
      "source": [
        "import nltk"
      ],
      "execution_count": 33,
      "outputs": []
    },
    {
      "cell_type": "code",
      "metadata": {
        "colab": {
          "base_uri": "https://localhost:8080/"
        },
        "id": "WLdD0RKoYeMl",
        "outputId": "34ed89d4-4734-49bb-e1de-2fca762f89a5"
      },
      "source": [
        "nltk.download('punkt')\n",
        "nltk.download('stopwords')"
      ],
      "execution_count": 36,
      "outputs": [
        {
          "output_type": "stream",
          "text": [
            "[nltk_data] Downloading package punkt to /root/nltk_data...\n",
            "[nltk_data]   Package punkt is already up-to-date!\n",
            "[nltk_data] Downloading package stopwords to /root/nltk_data...\n",
            "[nltk_data]   Unzipping corpora/stopwords.zip.\n"
          ],
          "name": "stdout"
        },
        {
          "output_type": "execute_result",
          "data": {
            "text/plain": [
              "True"
            ]
          },
          "metadata": {
            "tags": []
          },
          "execution_count": 36
        }
      ]
    },
    {
      "cell_type": "code",
      "metadata": {
        "colab": {
          "base_uri": "https://localhost:8080/"
        },
        "id": "RfEC7j8aZmdt",
        "outputId": "152e5f57-4793-4ed8-f238-fd262c78ee98"
      },
      "source": [
        "# Program to measure the similarity between\n",
        "# two sentences using cosine similarity.\n",
        "from nltk.corpus import stopwords\n",
        "from nltk.tokenize import word_tokenize\n",
        "\n",
        "# X = input(\"Enter first string: \").lower()\n",
        "# Y = input(\"Enter second string: \").lower()\n",
        "X =\"Good morning! Welcome\"\n",
        "Y =\"Good evening! Welcome\"\n",
        "\n",
        "# tokenization\n",
        "X_list = word_tokenize(X)\n",
        "Y_list = word_tokenize(Y)\n",
        "\n",
        "# sw contains the list of stopwords\n",
        "sw = stopwords.words('english')\n",
        "l1 =[];l2 =[]\n",
        "\n",
        "# remove stop words from the string\n",
        "X_set = {w for w in X_list if not w in sw}\n",
        "Y_set = {w for w in Y_list if not w in sw}\n",
        "\n",
        "# form a set containing keywords of both strings\n",
        "rvector = X_set.union(Y_set)\n",
        "for w in rvector:\n",
        "  if w in X_set: l1.append(1) # create a vector\n",
        "  else: l1.append(0)\n",
        "  if w in Y_set: l2.append(1)\n",
        "  else: l2.append(0)\n",
        "c = 0\n",
        "\n",
        "# cosine formula\n",
        "for i in range(len(rvector)):\n",
        "  c+= l1[i]*l2[i]\n",
        "cosine = c / float((sum(l1)*sum(l2))**0.5)\n",
        "print(\"similarity: \", cosine)"
      ],
      "execution_count": 38,
      "outputs": [
        {
          "output_type": "stream",
          "text": [
            "similarity:  0.75\n"
          ],
          "name": "stdout"
        }
      ]
    },
    {
      "cell_type": "code",
      "metadata": {
        "colab": {
          "base_uri": "https://localhost:8080/"
        },
        "id": "4J3upBOpeEGg",
        "outputId": "0c8ad985-cedb-41e9-db71-0eb8e96f5c1f"
      },
      "source": [
        "from sklearn.feature_extraction.text import CountVectorizer\n",
        "from sklearn.metrics.pairwise import cosine_similarity\n",
        "\n",
        "\n",
        "corpus = [\n",
        "    'This is my first sentence',\n",
        "    'This is my second sentence'\n",
        "]\n",
        "\n",
        "vectorizer = CountVectorizer()\n",
        "X = vectorizer.fit_transform(corpus)\n",
        "print(cosine_similarity(X.toarray())[0][1]) # 0.8\n",
        "\n",
        "corpus = [\n",
        "    'This is the same sentence',\n",
        "    'This is the same sentence'\n",
        "]\n",
        "\n",
        "vectorizer = CountVectorizer()\n",
        "X = vectorizer.fit_transform(corpus)\n",
        "print(cosine_similarity(X.toarray())[0][1]) # 1.0\n",
        "\n",
        "corpus = [\n",
        "    'Two sentences',\n",
        "    'that are not the same at all'\n",
        "]\n",
        "\n",
        "vectorizer = CountVectorizer()\n",
        "X = vectorizer.fit_transform(corpus)\n",
        "print(cosine_similarity(X.toarray())[0][1]) # 0.0"
      ],
      "execution_count": 41,
      "outputs": [
        {
          "output_type": "stream",
          "text": [
            "0.7999999999999999\n",
            "0.9999999999999999\n",
            "0.0\n"
          ],
          "name": "stdout"
        }
      ]
    },
    {
      "cell_type": "code",
      "metadata": {
        "id": "S3jzWLBIfZ4T"
      },
      "source": [
        ""
      ],
      "execution_count": null,
      "outputs": []
    }
  ]
}