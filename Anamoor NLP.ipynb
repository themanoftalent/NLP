{
  "nbformat": 4,
  "nbformat_minor": 0,
  "metadata": {
    "colab": {
      "name": "nnl.ipynb",
      "provenance": [],
      "collapsed_sections": [],
      "authorship_tag": "ABX9TyNhJwFa1FXgcrezCzAokxP6",
      "include_colab_link": true
    },
    "kernelspec": {
      "name": "python3",
      "display_name": "Python 3"
    },
    "language_info": {
      "name": "python"
    }
  },
  "cells": [
    {
      "cell_type": "markdown",
      "metadata": {
        "id": "view-in-github",
        "colab_type": "text"
      },
      "source": [
        "<a href=\"https://colab.research.google.com/github/themanoftalent/NLP/blob/main/Anamoor%20NLP.ipynb\" target=\"_parent\"><img src=\"https://colab.research.google.com/assets/colab-badge.svg\" alt=\"Open In Colab\"/></a>"
      ]
    },
    {
      "cell_type": "code",
      "metadata": {
        "id": "xmHDVMa3vH0f"
      },
      "source": [
        "import re\n",
        "from typing import List "
      ],
      "execution_count": 29,
      "outputs": []
    },
    {
      "cell_type": "code",
      "metadata": {
        "id": "5A9N_lzoXBIH"
      },
      "source": [
        "def username(text:str) -> List[str]:\n",
        "  print(re.findall(r\"([^\\s@]+)@\\S+\", text))"
      ],
      "execution_count": 30,
      "outputs": []
    },
    {
      "cell_type": "code",
      "metadata": {
        "colab": {
          "base_uri": "https://localhost:8080/"
        },
        "id": "6kWWUeksXLdr",
        "outputId": "9f6521ec-32e2-4cce-b35b-fdcf1323170f"
      },
      "source": [
        "a= \"New regsitered users are : john.doe@gmail.com, john@gmail.com\"\n",
        "username(a)"
      ],
      "execution_count": 31,
      "outputs": [
        {
          "output_type": "stream",
          "text": [
            "['john.doe', 'john']\n"
          ],
          "name": "stdout"
        }
      ]
    },
    {
      "cell_type": "code",
      "metadata": {
        "id": "kedIrpZuXbMu"
      },
      "source": [
        "###########3"
      ],
      "execution_count": 32,
      "outputs": []
    },
    {
      "cell_type": "code",
      "metadata": {
        "id": "EmtzLVYkX0iZ"
      },
      "source": [
        "import nltk\n",
        "from nltk.tokenize import sent_tokenize, word_tokenize\n",
        "from nltk.corpus import stopwords\n",
        "from nltk.stem import WordNetLemmatizer\n",
        "from nltk.stem import PorterStemmer\n",
        "from collections import Counter"
      ],
      "execution_count": 33,
      "outputs": []
    },
    {
      "cell_type": "code",
      "metadata": {
        "colab": {
          "base_uri": "https://localhost:8080/"
        },
        "id": "1XHSJIKKbIy5",
        "outputId": "45056727-5345-420c-8d1e-acfff827a566"
      },
      "source": [
        "nltk.download('stopwords')\n",
        "nltk.download('punkt')\n",
        "nltk.download('wordnet')"
      ],
      "execution_count": 34,
      "outputs": [
        {
          "output_type": "stream",
          "text": [
            "[nltk_data] Downloading package stopwords to /root/nltk_data...\n",
            "[nltk_data]   Package stopwords is already up-to-date!\n",
            "[nltk_data] Downloading package punkt to /root/nltk_data...\n",
            "[nltk_data]   Package punkt is already up-to-date!\n",
            "[nltk_data] Downloading package wordnet to /root/nltk_data...\n",
            "[nltk_data]   Package wordnet is already up-to-date!\n"
          ],
          "name": "stdout"
        },
        {
          "output_type": "execute_result",
          "data": {
            "text/plain": [
              "True"
            ]
          },
          "metadata": {
            "tags": []
          },
          "execution_count": 34
        }
      ]
    },
    {
      "cell_type": "code",
      "metadata": {
        "id": "qPJx-oUGX4MV"
      },
      "source": [
        "def cleaning(data):\n",
        "    stop_words = stopwords.words('english')\n",
        "    #lem = WordNetLemmatizer()\n",
        "    #1 . Tokenize\n",
        "    text_tokens = word_tokenize(data)\n",
        "    #2. Remove Puncs\n",
        "    #tokens_without_punc = [w for w in text_tokens if w.isalpha() or w.isdigit()]\n",
        "    #3. Removing Stopwords\n",
        "    tokens_without_sw = [t for t in text_tokens if t not in stop_words]\n",
        "    #4. lemma\n",
        "   #text_cleaned = [lem.lemmatize(t) for t in tokens_without_sw]\n",
        "    #join\n",
        "    return ' '.join(tokens_without_sw)\n",
        "  \n"
      ],
      "execution_count": 45,
      "outputs": []
    },
    {
      "cell_type": "code",
      "metadata": {
        "colab": {
          "base_uri": "https://localhost:8080/",
          "height": 53
        },
        "id": "x-4r1NjNaoBL",
        "outputId": "9e0c4790-1d9d-4ede-c0ca-ae77e94479ac"
      },
      "source": [
        "text = \"\"\" It says the world's wealthiest 1% produce double the combined carbon emission of the poor est 50%, according to the UN.  The wealthiest 5% alone - the so-called \"poll uter elite\" - contributed 37% of emission growth between 1990 and 2015.\n",
        "\"\"\"\n",
        "cleaning(text)"
      ],
      "execution_count": 46,
      "outputs": [
        {
          "output_type": "execute_result",
          "data": {
            "application/vnd.google.colaboratory.intrinsic+json": {
              "type": "string"
            },
            "text/plain": [
              "\"It says world 's wealthiest 1 % produce double combined carbon emission poor est 50 % , according UN . The wealthiest 5 % alone - so-called `` poll uter elite '' - contributed 37 % emission growth 1990 2015 .\""
            ]
          },
          "metadata": {
            "tags": []
          },
          "execution_count": 46
        }
      ]
    },
    {
      "cell_type": "code",
      "metadata": {
        "id": "_ad3J6NZbF6a"
      },
      "source": [
        ""
      ],
      "execution_count": null,
      "outputs": []
    }
  ]
}