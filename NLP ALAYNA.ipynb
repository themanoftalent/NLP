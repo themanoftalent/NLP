{
  "nbformat": 4,
  "nbformat_minor": 0,
  "metadata": {
    "colab": {
      "name": "nnl.ipynb",
      "provenance": [],
      "collapsed_sections": [],
      "authorship_tag": "ABX9TyMQlKeJhIby05veXX8vHsAo",
      "include_colab_link": true
    },
    "kernelspec": {
      "name": "python3",
      "display_name": "Python 3"
    },
    "language_info": {
      "name": "python"
    }
  },
  "cells": [
    {
      "cell_type": "markdown",
      "metadata": {
        "id": "view-in-github",
        "colab_type": "text"
      },
      "source": [
        "<a href=\"https://colab.research.google.com/github/themanoftalent/NLP/blob/main/NLP%20ALAYNA.ipynb\" target=\"_parent\"><img src=\"https://colab.research.google.com/assets/colab-badge.svg\" alt=\"Open In Colab\"/></a>"
      ]
    },
    {
      "cell_type": "markdown",
      "metadata": {
        "id": "UVJMpQ3b-SZS"
      },
      "source": [
        "`Anamoor 1`\n",
        "####REGEX"
      ]
    },
    {
      "cell_type": "code",
      "metadata": {
        "id": "xmHDVMa3vH0f"
      },
      "source": [
        "import re\n",
        "from typing import List "
      ],
      "execution_count": null,
      "outputs": []
    },
    {
      "cell_type": "code",
      "metadata": {
        "id": "5A9N_lzoXBIH"
      },
      "source": [
        "def username(text:str) -> List[str]:\n",
        "  print(re.findall(r\"([^\\s@]+)@\\S+\", text))"
      ],
      "execution_count": null,
      "outputs": []
    },
    {
      "cell_type": "code",
      "metadata": {
        "colab": {
          "base_uri": "https://localhost:8080/"
        },
        "id": "6kWWUeksXLdr",
        "outputId": "413deeb2-f276-4cc0-fe9e-ffaba5adcfcd"
      },
      "source": [
        "a= \"New regsitered users are : akif.can@gmail.com, akif@gmail.com\"\n",
        "username(a)"
      ],
      "execution_count": null,
      "outputs": [
        {
          "output_type": "stream",
          "text": [
            "['akif.can', 'akif']\n"
          ],
          "name": "stdout"
        }
      ]
    },
    {
      "cell_type": "code",
      "metadata": {
        "id": "6AROfLCP-aA4"
      },
      "source": [
        ""
      ],
      "execution_count": null,
      "outputs": []
    },
    {
      "cell_type": "markdown",
      "metadata": {
        "id": "w9ijA98N-Y87"
      },
      "source": [
        "\n",
        "\n",
        "```\n",
        "Anamoor 2\n",
        "```\n",
        "####TOKENLESTIRME\n",
        "\n"
      ]
    },
    {
      "cell_type": "code",
      "metadata": {
        "id": "EmtzLVYkX0iZ"
      },
      "source": [
        "import nltk\n",
        "from nltk.tokenize import sent_tokenize, word_tokenize\n",
        "from nltk.corpus import stopwords\n",
        "from nltk.stem import WordNetLemmatizer\n",
        "from nltk.stem import PorterStemmer\n",
        "from collections import Counter"
      ],
      "execution_count": null,
      "outputs": []
    },
    {
      "cell_type": "code",
      "metadata": {
        "colab": {
          "base_uri": "https://localhost:8080/"
        },
        "id": "1XHSJIKKbIy5",
        "outputId": "45056727-5345-420c-8d1e-acfff827a566"
      },
      "source": [
        "nltk.download('stopwords')\n",
        "nltk.download('punkt')\n",
        "nltk.download('wordnet')"
      ],
      "execution_count": null,
      "outputs": [
        {
          "output_type": "stream",
          "text": [
            "[nltk_data] Downloading package stopwords to /root/nltk_data...\n",
            "[nltk_data]   Package stopwords is already up-to-date!\n",
            "[nltk_data] Downloading package punkt to /root/nltk_data...\n",
            "[nltk_data]   Package punkt is already up-to-date!\n",
            "[nltk_data] Downloading package wordnet to /root/nltk_data...\n",
            "[nltk_data]   Package wordnet is already up-to-date!\n"
          ],
          "name": "stdout"
        },
        {
          "output_type": "execute_result",
          "data": {
            "text/plain": [
              "True"
            ]
          },
          "metadata": {
            "tags": []
          },
          "execution_count": 34
        }
      ]
    },
    {
      "cell_type": "code",
      "metadata": {
        "id": "qPJx-oUGX4MV"
      },
      "source": [
        "def cleaning(data):\n",
        "    stop_words = stopwords.words('english')\n",
        "    #lem = WordNetLemmatizer()\n",
        "    #1 . Tokenize\n",
        "    text_tokens = word_tokenize(data)\n",
        "    #2. Remove Puncs\n",
        "    #tokens_without_punc = [w for w in text_tokens if w.isalpha() or w.isdigit()]\n",
        "    #3. Removing Stopwords\n",
        "    tokens_without_sw = [t for t in text_tokens if t not in stop_words]\n",
        "    #4. lemma\n",
        "   #text_cleaned = [lem.lemmatize(t) for t in tokens_without_sw]\n",
        "    #join\n",
        "    return ' '.join(tokens_without_sw)\n",
        "  \n"
      ],
      "execution_count": null,
      "outputs": []
    },
    {
      "cell_type": "code",
      "metadata": {
        "colab": {
          "base_uri": "https://localhost:8080/",
          "height": 71
        },
        "id": "x-4r1NjNaoBL",
        "outputId": "9e0c4790-1d9d-4ede-c0ca-ae77e94479ac"
      },
      "source": [
        "text = \"\"\" It says the world's wealthiest 1% produce double the combined carbon emission of the poor est 50%, according to the UN.  The wealthiest 5% alone - the so-called \"poll uter elite\" - contributed 37% of emission growth between 1990 and 2015.\n",
        "\"\"\"\n",
        "cleaning(text)"
      ],
      "execution_count": null,
      "outputs": [
        {
          "output_type": "execute_result",
          "data": {
            "application/vnd.google.colaboratory.intrinsic+json": {
              "type": "string"
            },
            "text/plain": [
              "\"It says world 's wealthiest 1 % produce double combined carbon emission poor est 50 % , according UN . The wealthiest 5 % alone - so-called `` poll uter elite '' - contributed 37 % emission growth 1990 2015 .\""
            ]
          },
          "metadata": {
            "tags": []
          },
          "execution_count": 46
        }
      ]
    },
    {
      "cell_type": "markdown",
      "metadata": {
        "id": "njLAPNNM-3KR"
      },
      "source": [
        "`Anamoor 3`\n",
        "####ÇALIŞMAYAN COMPOSE"
      ]
    },
    {
      "cell_type": "code",
      "metadata": {
        "id": "ucCWS4qkfVkm",
        "colab": {
          "base_uri": "https://localhost:8080/",
          "height": 132
        },
        "outputId": "1c4c0210-6115-42b2-a63d-a20484f6e5cf"
      },
      "source": [
        "def compose(x):\n",
        "  return x+1\n",
        "    if len(list) == 1:\n",
        "        return lambda x:list[0](x)\n",
        "    list.reverse()\n",
        "    final=lambda x:x\n",
        "    for f in list:\n",
        "        final=lambda x:f(final(x))\n",
        "    return final"
      ],
      "execution_count": null,
      "outputs": [
        {
          "output_type": "error",
          "ename": "IndentationError",
          "evalue": "ignored",
          "traceback": [
            "\u001b[0;36m  File \u001b[0;32m\"<ipython-input-6-a7bc91368482>\"\u001b[0;36m, line \u001b[0;32m3\u001b[0m\n\u001b[0;31m    if len(list) == 1:\u001b[0m\n\u001b[0m    ^\u001b[0m\n\u001b[0;31mIndentationError\u001b[0m\u001b[0;31m:\u001b[0m unexpected indent\n"
          ]
        }
      ]
    },
    {
      "cell_type": "code",
      "metadata": {
        "id": "Fm5ccH8Hh5np"
      },
      "source": [
        ""
      ],
      "execution_count": null,
      "outputs": []
    },
    {
      "cell_type": "code",
      "metadata": {
        "id": "gKHGftLHh6_3",
        "colab": {
          "base_uri": "https://localhost:8080/",
          "height": 185
        },
        "outputId": "af9505a5-466a-4d06-cfe2-ff63d90a3070"
      },
      "source": [
        "f1 = f1_score(testy, yhat_classes)\n",
        "print('F1 score: %f' % f1)"
      ],
      "execution_count": null,
      "outputs": [
        {
          "output_type": "error",
          "ename": "NameError",
          "evalue": "ignored",
          "traceback": [
            "\u001b[0;31m---------------------------------------------------------------------------\u001b[0m",
            "\u001b[0;31mNameError\u001b[0m                                 Traceback (most recent call last)",
            "\u001b[0;32m<ipython-input-7-0bd9dc78ce6f>\u001b[0m in \u001b[0;36m<module>\u001b[0;34m()\u001b[0m\n\u001b[0;32m----> 1\u001b[0;31m \u001b[0mf1\u001b[0m \u001b[0;34m=\u001b[0m \u001b[0mf1_score\u001b[0m\u001b[0;34m(\u001b[0m\u001b[0mtesty\u001b[0m\u001b[0;34m,\u001b[0m \u001b[0myhat_classes\u001b[0m\u001b[0;34m)\u001b[0m\u001b[0;34m\u001b[0m\u001b[0;34m\u001b[0m\u001b[0m\n\u001b[0m\u001b[1;32m      2\u001b[0m \u001b[0mprint\u001b[0m\u001b[0;34m(\u001b[0m\u001b[0;34m'F1 score: %f'\u001b[0m \u001b[0;34m%\u001b[0m \u001b[0mf1\u001b[0m\u001b[0;34m)\u001b[0m\u001b[0;34m\u001b[0m\u001b[0;34m\u001b[0m\u001b[0m\n",
            "\u001b[0;31mNameError\u001b[0m: name 'f1_score' is not defined"
          ]
        }
      ]
    },
    {
      "cell_type": "markdown",
      "metadata": {
        "id": "l15tlsr__IMm"
      },
      "source": [
        "\n",
        "\n",
        "```\n",
        "Anamoor 4\n",
        "```\n",
        "####PARENTEZ MATCH\n",
        "\n"
      ]
    },
    {
      "cell_type": "code",
      "metadata": {
        "id": "-drqzDeumIC_"
      },
      "source": [
        "\n",
        "def check(expression):\n",
        "\t\n",
        "\topen_tup = tuple('({[')\n",
        "\tclose_tup = tuple(')}]')\n",
        "\tmap = dict(zip(open_tup, close_tup))\n",
        "\tqueue = []\n",
        "\n",
        "\tfor i in expression:\n",
        "\t\tif i in open_tup:\n",
        "\t\t\tqueue.append(map[i])\n",
        "\t\telif i in close_tup:\n",
        "\t\t\tif not queue or i != queue.pop():\n",
        "\t\t\t\treturn \"False\"\n",
        "\tif not queue:\n",
        "\t\treturn \"True\"\n",
        "\telse:\n",
        "\t\treturn \"False\"\n"
      ],
      "execution_count": null,
      "outputs": []
    },
    {
      "cell_type": "code",
      "metadata": {
        "colab": {
          "base_uri": "https://localhost:8080/",
          "height": 35
        },
        "id": "aDMrS8MJmIz6",
        "outputId": "ff0c8eb0-8aad-4dad-dd64-5e98e9191f88"
      },
      "source": [
        "check(\"{[(])}\")"
      ],
      "execution_count": null,
      "outputs": [
        {
          "output_type": "execute_result",
          "data": {
            "application/vnd.google.colaboratory.intrinsic+json": {
              "type": "string"
            },
            "text/plain": [
              "'False'"
            ]
          },
          "metadata": {
            "tags": []
          },
          "execution_count": 9
        }
      ]
    },
    {
      "cell_type": "code",
      "metadata": {
        "colab": {
          "base_uri": "https://localhost:8080/",
          "height": 35
        },
        "id": "1ZDTDXX0mSNL",
        "outputId": "88582ae5-23a5-4ef2-fc3d-f62e83fadca2"
      },
      "source": [
        "check(\"[()}\")"
      ],
      "execution_count": null,
      "outputs": [
        {
          "output_type": "execute_result",
          "data": {
            "application/vnd.google.colaboratory.intrinsic+json": {
              "type": "string"
            },
            "text/plain": [
              "'False'"
            ]
          },
          "metadata": {
            "tags": []
          },
          "execution_count": 10
        }
      ]
    },
    {
      "cell_type": "markdown",
      "metadata": {
        "id": "CKzGGrQM_lB5"
      },
      "source": [
        "\n",
        "\n",
        "```\n",
        "Anamoor 5\n",
        "```\n",
        "####NEWTON TORCH\n",
        "\n"
      ]
    },
    {
      "cell_type": "code",
      "metadata": {
        "id": "mzmZeYgq_9cf"
      },
      "source": [
        "import torch"
      ],
      "execution_count": null,
      "outputs": []
    },
    {
      "cell_type": "code",
      "metadata": {
        "id": "LcaaB95A_k0l"
      },
      "source": [
        "\n",
        "# initial guess\n",
        "guess = torch.tensor([1], dtype=torch.float64, requires_grad = True) \n",
        "\n",
        "# function to optimize\n",
        "def my_func(x): \n",
        "    return x - torch.cos(x)\n",
        "\n",
        "def newton(func, runs=5): \n",
        "    for _ in range(runs): \n",
        "        # evaluate our function with current value of `guess`\n",
        "        value = my_func(guess)\n",
        "        value.backward()\n",
        "        # update our `guess` based on the gradient\n",
        "        guess.data -= (value / guess.grad).data\n",
        "        # zero out current gradient to hold new gradients in next iteration \n",
        "        guess.grad.data.zero_() \n",
        "    return guess.data # return our final `guess` after 5 updates\n",
        "\n",
        "# # call starts\n",
        "# result = newton(my_func, guess)\n",
        "\n",
        "# # output of `result`\n",
        "# tensor([0.7391], dtype=torch.float64)"
      ],
      "execution_count": null,
      "outputs": []
    },
    {
      "cell_type": "code",
      "metadata": {
        "id": "jD76-iH0niTu",
        "colab": {
          "base_uri": "https://localhost:8080/"
        },
        "outputId": "75bacca0-6a01-4966-df95-f1fb7fad2f05"
      },
      "source": [
        "my_func(torch.tensor(1.))==torch.tensor(2.2)\n",
        "newton(torch.tensor(2.25))==torch.tensor(6.25)\n",
        "my_func(torch.tensor(-1.2))==torch.tensor(0)"
      ],
      "execution_count": null,
      "outputs": [
        {
          "output_type": "execute_result",
          "data": {
            "text/plain": [
              "tensor(False)"
            ]
          },
          "metadata": {
            "tags": []
          },
          "execution_count": 13
        }
      ]
    },
    {
      "cell_type": "markdown",
      "metadata": {
        "id": "v6N5i7MCA_C_"
      },
      "source": [
        "\n",
        "\n",
        "```\n",
        "Anamoor 6\n",
        "```\n",
        "####MOST frequest\n",
        "\n"
      ]
    },
    {
      "cell_type": "code",
      "metadata": {
        "id": "EjTSYq0AAGMc"
      },
      "source": [
        "import numpy as np\n",
        "from typing import Union\n",
        "from collections import Counter"
      ],
      "execution_count": 1,
      "outputs": []
    },
    {
      "cell_type": "code",
      "metadata": {
        "id": "NagFrOjLBRy9"
      },
      "source": [
        "def most_frequest(arr:np.array)-> Union[int,float,str]:\n",
        "  arr.sort()\n",
        "  maximum = 1; output = arr[0]; current_count = 1\n",
        "\n",
        "  for i in range(1,n):\n",
        "    if (arr[i] == arr[i - 1]):\n",
        "      current_count +=1\n",
        "\n",
        "    else:\n",
        "      if (current_count > maximum):\n",
        "        maximum = current_count\n",
        "        output = arr[i - 1]\n",
        "      current_count = 1\n",
        "\n",
        "  if (current_count > maximum):\n",
        "    maximum = current_count\n",
        "    output = arr[n- 1]\n",
        "  return output\n"
      ],
      "execution_count": 29,
      "outputs": []
    },
    {
      "cell_type": "code",
      "metadata": {
        "id": "XqO43KwhBcPb",
        "outputId": "b1c15341-ff1f-43bd-e972-b8908e6da00a",
        "colab": {
          "base_uri": "https://localhost:8080/",
          "height": 35
        }
      },
      "source": [
        "arr=np.array([\"a\",\"e\",\"b\",\"a\",\"c\",\"a\",\"e\",\"d\",\"e\",\"e\",\"e\"])\n",
        "n=len(arr)\n",
        "most_frequest(arr)"
      ],
      "execution_count": 30,
      "outputs": [
        {
          "output_type": "execute_result",
          "data": {
            "application/vnd.google.colaboratory.intrinsic+json": {
              "type": "string"
            },
            "text/plain": [
              "'e'"
            ]
          },
          "metadata": {
            "tags": []
          },
          "execution_count": 30
        }
      ]
    },
    {
      "cell_type": "code",
      "metadata": {
        "id": "BTDsxLz0BsHa"
      },
      "source": [
        ""
      ],
      "execution_count": null,
      "outputs": []
    }
  ]
}