{
  "nbformat": 4,
  "nbformat_minor": 0,
  "metadata": {
    "kernelspec": {
      "display_name": "Python 3",
      "language": "python",
      "name": "python3"
    },
    "language_info": {
      "codemirror_mode": {
        "name": "ipython",
        "version": 3
      },
      "file_extension": ".py",
      "mimetype": "text/x-python",
      "name": "python",
      "nbconvert_exporter": "python",
      "pygments_lexer": "ipython3",
      "version": "3.6.5"
    },
    "colab": {
      "name": "1- Tokenleştirme.ipynb",
      "provenance": [],
      "include_colab_link": true
    }
  },
  "cells": [
    {
      "cell_type": "markdown",
      "metadata": {
        "id": "view-in-github",
        "colab_type": "text"
      },
      "source": [
        "<a href=\"https://colab.research.google.com/github/themanoftalent/NLP/blob/main/1.Tokenle%C5%9Ftirme.ipynb\" target=\"_parent\"><img src=\"https://colab.research.google.com/assets/colab-badge.svg\" alt=\"Open In Colab\"/></a>"
      ]
    },
    {
      "cell_type": "code",
      "metadata": {
        "colab": {
          "base_uri": "https://localhost:8080/"
        },
        "id": "x80KihaPc8C0",
        "outputId": "d2b41538-519a-4a71-e864-df84b6b0e445"
      },
      "source": [
        "  import nltk\n",
        "  nltk.download('punkt')"
      ],
      "execution_count": null,
      "outputs": [
        {
          "output_type": "stream",
          "text": [
            "[nltk_data] Downloading package punkt to /root/nltk_data...\n",
            "[nltk_data]   Unzipping tokenizers/punkt.zip.\n"
          ],
          "name": "stdout"
        },
        {
          "output_type": "execute_result",
          "data": {
            "text/plain": [
              "True"
            ]
          },
          "metadata": {
            "tags": []
          },
          "execution_count": 11
        }
      ]
    },
    {
      "cell_type": "code",
      "metadata": {
        "id": "RBGPZNWSccyz"
      },
      "source": [
        "from nltk.tokenize import sent_tokenize, word_tokenize"
      ],
      "execution_count": null,
      "outputs": []
    },
    {
      "cell_type": "code",
      "metadata": {
        "id": "ZIYaX4NgcbPu"
      },
      "source": [
        "text = \"Alan Turing, British mathematician, computer scientist and cryptologist. He is considered the founder of computer science. He put forward a criterion for whether machines and computers can think or not with the Turing test he developed.\""
      ],
      "execution_count": null,
      "outputs": []
    },
    {
      "cell_type": "code",
      "metadata": {
        "colab": {
          "base_uri": "https://localhost:8080/"
        },
        "id": "sBouxs-ecbPu",
        "outputId": "20de9c29-3f43-46d3-8418-0feb30140ccd"
      },
      "source": [
        "normal_splitting =text.split()\n",
        "normal_splitting"
      ],
      "execution_count": null,
      "outputs": [
        {
          "output_type": "execute_result",
          "data": {
            "text/plain": [
              "['Alan',\n",
              " 'Turing,',\n",
              " 'British',\n",
              " 'mathematician,',\n",
              " 'computer',\n",
              " 'scientist',\n",
              " 'and',\n",
              " 'cryptologist.',\n",
              " 'He',\n",
              " 'is',\n",
              " 'considered',\n",
              " 'the',\n",
              " 'founder',\n",
              " 'of',\n",
              " 'computer',\n",
              " 'science.',\n",
              " 'He',\n",
              " 'put',\n",
              " 'forward',\n",
              " 'a',\n",
              " 'criterion',\n",
              " 'for',\n",
              " 'whether',\n",
              " 'machines',\n",
              " 'and',\n",
              " 'computers',\n",
              " 'can',\n",
              " 'think',\n",
              " 'or',\n",
              " 'not',\n",
              " 'with',\n",
              " 'the',\n",
              " 'Turing',\n",
              " 'test',\n",
              " 'he',\n",
              " 'developed.']"
            ]
          },
          "metadata": {
            "tags": []
          },
          "execution_count": 18
        }
      ]
    },
    {
      "cell_type": "code",
      "metadata": {
        "colab": {
          "base_uri": "https://localhost:8080/"
        },
        "id": "A26rIdPOcbPv",
        "outputId": "3dcbec93-e4da-4df3-c7b3-5f19c1f6f291"
      },
      "source": [
        "split_text_into_word = word_tokenize(text)\n",
        "split_text_into_word"
      ],
      "execution_count": null,
      "outputs": [
        {
          "output_type": "execute_result",
          "data": {
            "text/plain": [
              "['Alan',\n",
              " 'Turing',\n",
              " ',',\n",
              " 'British',\n",
              " 'mathematician',\n",
              " ',',\n",
              " 'computer',\n",
              " 'scientist',\n",
              " 'and',\n",
              " 'cryptologist',\n",
              " '.',\n",
              " 'He',\n",
              " 'is',\n",
              " 'considered',\n",
              " 'the',\n",
              " 'founder',\n",
              " 'of',\n",
              " 'computer',\n",
              " 'science',\n",
              " '.',\n",
              " 'He',\n",
              " 'put',\n",
              " 'forward',\n",
              " 'a',\n",
              " 'criterion',\n",
              " 'for',\n",
              " 'whether',\n",
              " 'machines',\n",
              " 'and',\n",
              " 'computers',\n",
              " 'can',\n",
              " 'think',\n",
              " 'or',\n",
              " 'not',\n",
              " 'with',\n",
              " 'the',\n",
              " 'Turing',\n",
              " 'test',\n",
              " 'he',\n",
              " 'developed',\n",
              " '.']"
            ]
          },
          "metadata": {
            "tags": []
          },
          "execution_count": 19
        }
      ]
    },
    {
      "cell_type": "code",
      "metadata": {
        "colab": {
          "base_uri": "https://localhost:8080/"
        },
        "id": "qBMD_y_lcbPv",
        "outputId": "540ce675-bb88-45c6-a7b4-d38de4cf6c7b"
      },
      "source": [
        "split_text_into_sentence = sent_tokenize(text)\n",
        "split_text_into_sentence"
      ],
      "execution_count": null,
      "outputs": [
        {
          "output_type": "execute_result",
          "data": {
            "text/plain": [
              "['Alan Turing, British mathematician, computer scientist and cryptologist.',\n",
              " 'He is considered the founder of computer science.',\n",
              " 'He put forward a criterion for whether machines and computers can think or not with the Turing test he developed.']"
            ]
          },
          "metadata": {
            "tags": []
          },
          "execution_count": 20
        }
      ]
    },
    {
      "cell_type": "code",
      "metadata": {
        "id": "xR0hPspYcbPw"
      },
      "source": [
        "for token in split_text_into_word:\n",
        "    print(token)"
      ],
      "execution_count": null,
      "outputs": []
    },
    {
      "cell_type": "code",
      "metadata": {
        "colab": {
          "base_uri": "https://localhost:8080/"
        },
        "id": "CW0np6aBcbPw",
        "outputId": "d93a84d4-7a2e-46f8-9431-8ff394da595e"
      },
      "source": [
        "for token_sen in split_text_into_sentence:\n",
        "  print(token_sen)"
      ],
      "execution_count": null,
      "outputs": [
        {
          "output_type": "stream",
          "text": [
            "Alan Turing, British mathematician, computer scientist and cryptologist.\n",
            "He is considered the founder of computer science.\n",
            "He put forward a criterion for whether machines and computers can think or not with the Turing test he developed.\n"
          ],
          "name": "stdout"
        }
      ]
    },
    {
      "cell_type": "code",
      "metadata": {
        "id": "f4PlF1W2d_hL"
      },
      "source": [
        ""
      ],
      "execution_count": null,
      "outputs": []
    }
  ]
}