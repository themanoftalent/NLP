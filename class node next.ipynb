{
  "nbformat": 4,
  "nbformat_minor": 0,
  "metadata": {
    "colab": {
      "name": "nnl.ipynb",
      "provenance": [],
      "collapsed_sections": [],
      "authorship_tag": "ABX9TyPb2OQZDzajpujslO2bQfLM",
      "include_colab_link": true
    },
    "kernelspec": {
      "name": "python3",
      "display_name": "Python 3"
    },
    "language_info": {
      "name": "python"
    }
  },
  "cells": [
    {
      "cell_type": "markdown",
      "metadata": {
        "id": "view-in-github",
        "colab_type": "text"
      },
      "source": [
        "<a href=\"https://colab.research.google.com/github/themanoftalent/NLP/blob/main/class%20node%20next.ipynb\" target=\"_parent\"><img src=\"https://colab.research.google.com/assets/colab-badge.svg\" alt=\"Open In Colab\"/></a>"
      ]
    },
    {
      "cell_type": "code",
      "metadata": {
        "id": "vaVntx0xaKTD"
      },
      "source": [
        "class Node:\n",
        "  def __init__(self,value:int):\n",
        "    self.value = value\n",
        "    self.next = None \n",
        "  \n",
        "  # here I write a second method like merge\n",
        "  \n",
        "  def merge(list1:Node, list2:Node) -> Node:\n",
        "    head_first = list1\n",
        "    while head_first.next:\n",
        "      head_first = head_first.next\n",
        "      head_first.next = list2\n",
        "    return list1\n",
        "      \n",
        "  \n",
        "  \n",
        "n1=Node(1)\n",
        "n2=Node(2)\n",
        "  \n",
        "n1.next=n2"
      ],
      "execution_count": null,
      "outputs": []
    },
    {
      "cell_type": "code",
      "metadata": {
        "colab": {
          "base_uri": "https://localhost:8080/",
          "height": 282
        },
        "id": "q8r4TjgpaK5-",
        "outputId": "f473747a-2ffe-4d17-fddf-37ff254cafdd"
      },
      "source": [
        "n1.merge(1)"
      ],
      "execution_count": null,
      "outputs": [
        {
          "output_type": "error",
          "ename": "AttributeError",
          "evalue": "ignored",
          "traceback": [
            "\u001b[0;31m---------------------------------------------------------------------------\u001b[0m",
            "\u001b[0;31mAttributeError\u001b[0m                            Traceback (most recent call last)",
            "\u001b[0;32m<ipython-input-10-e82a2f786f75>\u001b[0m in \u001b[0;36m<module>\u001b[0;34m()\u001b[0m\n\u001b[0;32m----> 1\u001b[0;31m \u001b[0mn1\u001b[0m\u001b[0;34m.\u001b[0m\u001b[0mmerge\u001b[0m\u001b[0;34m(\u001b[0m\u001b[0;36m1\u001b[0m\u001b[0;34m)\u001b[0m\u001b[0;34m\u001b[0m\u001b[0;34m\u001b[0m\u001b[0m\n\u001b[0m",
            "\u001b[0;32m<ipython-input-9-88cfb20507b0>\u001b[0m in \u001b[0;36mmerge\u001b[0;34m(list1, list2)\u001b[0m\n\u001b[1;32m     10\u001b[0m     \u001b[0;32mwhile\u001b[0m \u001b[0mhead_first\u001b[0m\u001b[0;34m.\u001b[0m\u001b[0mnext\u001b[0m\u001b[0;34m:\u001b[0m\u001b[0;34m\u001b[0m\u001b[0;34m\u001b[0m\u001b[0m\n\u001b[1;32m     11\u001b[0m       \u001b[0mhead_first\u001b[0m \u001b[0;34m=\u001b[0m \u001b[0mhead_first\u001b[0m\u001b[0;34m.\u001b[0m\u001b[0mnext\u001b[0m\u001b[0;34m\u001b[0m\u001b[0;34m\u001b[0m\u001b[0m\n\u001b[0;32m---> 12\u001b[0;31m       \u001b[0mhead_first\u001b[0m\u001b[0;34m.\u001b[0m\u001b[0mnext\u001b[0m \u001b[0;34m=\u001b[0m \u001b[0mlist2\u001b[0m\u001b[0;34m\u001b[0m\u001b[0;34m\u001b[0m\u001b[0m\n\u001b[0m\u001b[1;32m     13\u001b[0m     \u001b[0;32mreturn\u001b[0m \u001b[0mlist1\u001b[0m\u001b[0;34m\u001b[0m\u001b[0;34m\u001b[0m\u001b[0m\n\u001b[1;32m     14\u001b[0m \u001b[0;34m\u001b[0m\u001b[0m\n",
            "\u001b[0;31mAttributeError\u001b[0m: 'int' object has no attribute 'next'"
          ]
        }
      ]
    },
    {
      "cell_type": "code",
      "metadata": {
        "id": "7U7JniF7an3L"
      },
      "source": [
        "def composite_function(f, g):\n",
        "\treturn lambda x : f(g(x))\n",
        "\n",
        "\n",
        "def add(x):\n",
        "\treturn x + 2\n",
        "\n",
        "\n",
        "def multiply(x):\n",
        "\treturn x * 2\n",
        "\n",
        "# Composite function returns\n",
        "# a lambda function. Here add_multiply\n",
        "# will store lambda x : multiply(add(x))\n",
        "add_multiply = composite_function(multiply, add)\n",
        "\n",
        "print(\"Adding 2 to 5 and multiplying the result with 2: \",\n",
        "\tadd_multiply(5))\n"
      ],
      "execution_count": null,
      "outputs": []
    },
    {
      "cell_type": "code",
      "metadata": {
        "id": "E0dELdM4g0VD"
      },
      "source": [
        "def compose (*functions):\n",
        "  def inner(arg):\n",
        "      for f in reversed(functions):\n",
        "          arg = f(arg)\n",
        "      return arg\n",
        "  return inner\n",
        "\n",
        "\n",
        "def square (x):\n",
        "      return x ** 2\n",
        "def increment (x):\n",
        "      return x + 1\n",
        "def half (x):\n",
        "      return x / 2"
      ],
      "execution_count": null,
      "outputs": []
    },
    {
      "cell_type": "code",
      "metadata": {
        "id": "fubWNHAnhBTu"
      },
      "source": [
        "composed = compose(square, increment, half)"
      ],
      "execution_count": null,
      "outputs": []
    },
    {
      "cell_type": "code",
      "metadata": {
        "id": "uq5WEKlYg0tD"
      },
      "source": [
        "\n",
        "\n",
        "composed = compose(square, increment, half) # square(increment(half(x)))\n",
        "composed(5) # square(increment(half(5))) = square(increment(2.5)) = square(3.5) = 12,25\n"
      ],
      "execution_count": null,
      "outputs": []
    }
  ]
}