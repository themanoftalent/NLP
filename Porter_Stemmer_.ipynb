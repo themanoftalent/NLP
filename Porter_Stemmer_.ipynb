{
  "nbformat": 4,
  "nbformat_minor": 0,
  "metadata": {
    "kernelspec": {
      "display_name": "Python 3",
      "language": "python",
      "name": "python3"
    },
    "language_info": {
      "codemirror_mode": {
        "name": "ipython",
        "version": 3
      },
      "file_extension": ".py",
      "mimetype": "text/x-python",
      "name": "python",
      "nbconvert_exporter": "python",
      "pygments_lexer": "ipython3",
      "version": "3.6.5"
    },
    "colab": {
      "name": "Porter Stemmer .ipynb",
      "provenance": [],
      "include_colab_link": true
    }
  },
  "cells": [
    {
      "cell_type": "markdown",
      "metadata": {
        "id": "view-in-github",
        "colab_type": "text"
      },
      "source": [
        "<a href=\"https://colab.research.google.com/github/themanoftalent/NLP/blob/main/Porter_Stemmer_.ipynb\" target=\"_parent\"><img src=\"https://colab.research.google.com/assets/colab-badge.svg\" alt=\"Open In Colab\"/></a>"
      ]
    },
    {
      "cell_type": "code",
      "metadata": {
        "id": "eUBCgVOGj9d0"
      },
      "source": [
        "from nltk.stem import PorterStemmer"
      ],
      "execution_count": 39,
      "outputs": []
    },
    {
      "cell_type": "code",
      "metadata": {
        "colab": {
          "base_uri": "https://localhost:8080/"
        },
        "id": "ZVQTjJiakCE5",
        "outputId": "4c3a4625-b209-41b9-b093-ccc0c4ef59c6"
      },
      "source": [
        "ps=PorterStemmer()\n",
        "\n",
        "words = ['play', 'playing', 'plays', 'played',\n",
        "         'playfullness', 'playful']\n",
        "\n",
        "ps=[ps.stem(word) for word in words ]\n",
        "print(ps)"
      ],
      "execution_count": 40,
      "outputs": [
        {
          "output_type": "stream",
          "text": [
            "['play', 'play', 'play', 'play', 'playful', 'play']\n"
          ],
          "name": "stdout"
        }
      ]
    },
    {
      "cell_type": "code",
      "metadata": {
        "id": "F94Uz6mykLLU"
      },
      "source": [
        ""
      ],
      "execution_count": 40,
      "outputs": []
    },
    {
      "cell_type": "code",
      "metadata": {
        "colab": {
          "base_uri": "https://localhost:8080/"
        },
        "id": "BbJiHXPckqfV",
        "outputId": "bb5cd081-085e-46a2-eb13-ecdaec61c67b"
      },
      "source": [
        "ps=PorterStemmer()\n",
        "\n",
        "sentence2 = \"I played the play playfully as the players were playing in the play with playfullness\"\n",
        "\n",
        "token = word_tokenize(sentence2)\n",
        "stemmed = \"\"\n",
        "\n",
        "for word in token:\n",
        "    stemmed += ps.stem(word) + \" \"\n",
        "print(stemmed)"
      ],
      "execution_count": 48,
      "outputs": [
        {
          "output_type": "stream",
          "text": [
            "I play the play play as the player were play in the play with playful \n"
          ],
          "name": "stdout"
        }
      ]
    },
    {
      "cell_type": "code",
      "metadata": {
        "id": "u8QQzTrEky1s"
      },
      "source": [
        ""
      ],
      "execution_count": null,
      "outputs": []
    }
  ]
}